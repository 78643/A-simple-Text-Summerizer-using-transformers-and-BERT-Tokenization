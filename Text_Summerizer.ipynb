{
  "nbformat": 4,
  "nbformat_minor": 0,
  "metadata": {
    "colab": {
      "provenance": []
    },
    "kernelspec": {
      "name": "python3",
      "display_name": "Python 3"
    },
    "language_info": {
      "name": "python"
    }
  },
  "cells": [
    {
      "cell_type": "markdown",
      "source": [
        "#Project Title:-\n",
        "##A simple Text Summerizer(limit 500) using transformer & BERT Tokenization"
      ],
      "metadata": {
        "id": "w8oXYPKq1VhA"
      }
    },
    {
      "cell_type": "markdown",
      "source": [
        "##Running Dependencies"
      ],
      "metadata": {
        "id": "eyzrURS-klw5"
      }
    },
    {
      "cell_type": "code",
      "execution_count": 31,
      "metadata": {
        "id": "R58tJ3S-jCCy"
      },
      "outputs": [],
      "source": [
        "!pip install transformers sentencepiece PyMuPDF -q"
      ]
    },
    {
      "cell_type": "markdown",
      "source": [
        "##Pre trained Run model LLM"
      ],
      "metadata": {
        "id": "Z-WlMqSkk9MB"
      }
    },
    {
      "cell_type": "code",
      "source": [
        "from transformers import T5Tokenizer,T5ForConditionalGeneration\n",
        "import torch\n",
        "import fitz"
      ],
      "metadata": {
        "id": "uGEL1GnJjq_S"
      },
      "execution_count": 32,
      "outputs": []
    },
    {
      "cell_type": "markdown",
      "source": [
        "##Loading L5 & T5-Small LLM model"
      ],
      "metadata": {
        "id": "CtFVdB_hlDnK"
      }
    },
    {
      "cell_type": "code",
      "source": [
        "model_name=\"t5-small\"\n",
        "tokenizer=T5Tokenizer.from_pretrained(model_name)\n",
        "model=T5ForConditionalGeneration.from_pretrained(model_name)"
      ],
      "metadata": {
        "id": "kmXbOp1HkEww"
      },
      "execution_count": 33,
      "outputs": []
    },
    {
      "cell_type": "code",
      "source": [
        "def summerize(text, max_input_length=512, max_output_length=150):\n",
        "  input_text=\"summarize:\" +text.strip().replace(\"\\n\",\"\")\n",
        "  input_ids = tokenizer.encode(input_text,return_tensors=\"pt\",\n",
        "                               max_length=max_input_length,\n",
        "                               truncation=True)\n",
        "\n",
        "  summery_ids = model.generate(\n",
        "      input_ids,\n",
        "      max_length=max_output_length,\n",
        "      min_length=30,\n",
        "      length_penalty=2.0,\n",
        "      num_beams=4,\n",
        "      early_stopping=True\n",
        "  )\n",
        "  summery = tokenizer.decode(summery_ids[0],skip_special_tokens=True)\n",
        "  return summery\n",
        "\n"
      ],
      "metadata": {
        "id": "rlW-p74_mahI"
      },
      "execution_count": 34,
      "outputs": []
    },
    {
      "cell_type": "code",
      "source": [
        "##For PDF input\n",
        "def extract_pdf_text(pdf_file):\n",
        "  #open the pdf\n",
        "  doc=fitz.open(pdf_file)#fitz will help for read-write\n",
        "  pdf_text=\"\"#to avoid space\n",
        "\n",
        "  ##give loop for next line, line+++++\n",
        "  for page_num in range(doc.page_count):\n",
        "    page=doc.load_page(page_num)\n",
        "    pdf_text += page.get_text()#to make multi page no.\n",
        "  return pdf_text"
      ],
      "metadata": {
        "id": "6gC8dSczniBe"
      },
      "execution_count": 35,
      "outputs": []
    },
    {
      "cell_type": "code",
      "source": [
        "##User nterface for input\n",
        "def get_user_input_option():\n",
        "  print(\"\\n choose one of the following options:\")\n",
        "  print(\"1. Upload PDF file\")\n",
        "  print(\"2. Enter Text Manually\")\n",
        "  choice = input(\"Enter 1 or 2: \")\n",
        "  return choice"
      ],
      "metadata": {
        "id": "YpwXCnDksppP"
      },
      "execution_count": 36,
      "outputs": []
    },
    {
      "cell_type": "code",
      "source": [
        "choice = get_user_input_option()\n",
        "# opt1\n",
        "if choice == '1':\n",
        "  from google.colab import files\n",
        "  uploaded = files.upload()\n",
        "\n",
        "  if uploaded:\n",
        "    pdf_file_name = list(uploaded.key())[0]\n",
        "    print(f\"\\n PDF Uploded: {pdf_file_name}\")\n",
        "    # extract text from pdf\n",
        "    extracted_text = extract_pdf_text(pdf_file_name)\n",
        "    if len(extract_pdf_text):\n",
        "      print(\"\\n Summerizing The PDF....\")\n",
        "      summery = summerize(extracted_text)\n",
        "      print(\"Summery of The Pdf: \\n\")\n",
        "      print(summery)\n",
        "\n",
        "    else:\n",
        "      print(\"No text Extract From Pdf. Ensure It has text\")\n",
        "  else:\n",
        "    print(\"No PDF file Upload. Please Upload Pdf File \")\n",
        "\n",
        "\n",
        "# Option 2 Manual text\n",
        "elif choice == \"2\":\n",
        "  print(\"\\n Paste or Type Your Input Here: \")\n",
        "  user_input = input(\"Enter The text Here: \\n\")\n",
        "  if user_input.strip():\n",
        "    summery = summerize(user_input)\n",
        "    print(\"Summery Of The text: \\n\")\n",
        "    print(summery)\n",
        "\n",
        "  else:\n",
        "    print(\"Not Text Provide. please Enter Text: \")\n",
        "\n",
        "else:\n",
        "  print(\"Invalid Choice. Please select 1 or 2\")"
      ],
      "metadata": {
        "colab": {
          "base_uri": "https://localhost:8080/"
        },
        "id": "r9CSUiGMtOOL",
        "outputId": "57c72d1f-5d46-4f58-ce74-fa12211722cf"
      },
      "execution_count": null,
      "outputs": [
        {
          "output_type": "stream",
          "name": "stdout",
          "text": [
            "\n",
            " choose one of the following options:\n",
            "1. Upload PDF file\n",
            "2. Enter Text Manually\n"
          ]
        }
      ]
    },
    {
      "cell_type": "code",
      "source": [],
      "metadata": {
        "id": "3A0SxvlQ0piV"
      },
      "execution_count": null,
      "outputs": []
    }
  ]
}